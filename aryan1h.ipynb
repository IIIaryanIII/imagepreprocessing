{
  "nbformat": 4,
  "nbformat_minor": 0,
  "metadata": {
    "colab": {
      "provenance": [],
      "authorship_tag": "ABX9TyPcFKR3m4pgLsQMro4yNzS3",
      "include_colab_link": true
    },
    "kernelspec": {
      "name": "python3",
      "display_name": "Python 3"
    },
    "language_info": {
      "name": "python"
    }
  },
  "cells": [
    {
      "cell_type": "markdown",
      "metadata": {
        "id": "view-in-github",
        "colab_type": "text"
      },
      "source": [
        "<a href=\"https://colab.research.google.com/github/IIIaryanIII/imagepreprocessing/blob/main/aryan1h.ipynb\" target=\"_parent\"><img src=\"https://colab.research.google.com/assets/colab-badge.svg\" alt=\"Open In Colab\"/></a>"
      ]
    },
    {
      "cell_type": "code",
      "source": [
        "# Import the necessary Libraries\n",
        "import cv2\n",
        "import numpy as np\n",
        "import matplotlib.pyplot as plt\n",
        "\n",
        "# Read image from disk.\n",
        "img = cv2.imread('/content/ganesh.jpeg')\n",
        "\n",
        "# Check if image loading was successful\n",
        "if img is None:\n",
        "    print(\"Error: Could not load image. Please check the file path.\")\n",
        "else:\n",
        "    # Convert BGR image to RGB\n",
        "    image_rgb = cv2.cvtColor(img, cv2.COLOR_BGR2RGB)\n",
        "\n",
        "    # Apply Canny edge detection\n",
        "    edges = cv2.Canny(image=image_rgb, threshold1=100, threshold2=700)\n",
        "\n",
        "    # Create subplots\n",
        "    fig, axs = plt.subplots(1, 2, figsize=(7, 4))\n",
        "\n",
        "    # Plot the original image\n",
        "    axs[0].imshow(image_rgb)\n",
        "    axs[0].set_title('Original Image')\n",
        "\n",
        "    # Plot the blurred image\n",
        "    axs[1].imshow(edges)\n",
        "    axs[1].set_title('Image edges')\n",
        "\n",
        "    # Remove ticks from the subplots\n",
        "    for ax in axs:\n",
        "        ax.set_xticks([])\n",
        "        ax.set_yticks([])\n",
        "\n",
        "    # Display the subplots\n",
        "    plt.tight_layout()\n",
        "    plt.show()"
      ],
      "metadata": {
        "colab": {
          "base_uri": "https://localhost:8080/"
        },
        "id": "L72QMiBTQyEF",
        "outputId": "3fc6a9b0-1f41-4afd-96db-bd67ec5583f7"
      },
      "execution_count": 4,
      "outputs": [
        {
          "output_type": "stream",
          "name": "stdout",
          "text": [
            "Error: Could not load image. Please check the file path.\n"
          ]
        }
      ]
    }
  ]
}